{
  "nbformat": 4,
  "nbformat_minor": 0,
  "metadata": {
    "colab": {
      "name": "FINAL PROJECT",
      "private_outputs": true,
      "provenance": [],
      "collapsed_sections": [],
      "include_colab_link": true
    },
    "kernelspec": {
      "name": "python3",
      "display_name": "Python 3"
    },
    "language_info": {
      "name": "python"
    }
  },
  "cells": [
    {
      "cell_type": "markdown",
      "metadata": {
        "id": "view-in-github",
        "colab_type": "text"
      },
      "source": [
        "<a href=\"https://colab.research.google.com/github/choi-hyunsoo/DAP/blob/main/FINAL_PROJECT.ipynb\" target=\"_parent\"><img src=\"https://colab.research.google.com/assets/colab-badge.svg\" alt=\"Open In Colab\"/></a>"
      ]
    },
    {
      "cell_type": "markdown",
      "source": [
        "# **정신건강 통계에 관하여**\n"
      ],
      "metadata": {
        "id": "7K5n_KKpD4Sc"
      }
    },
    {
      "cell_type": "markdown",
      "source": [
        "1990년대부터 2017년까지 나라 별로 나이, 증상들, 성별에 따른 발병률, 10만명 당 자살률과 우울증 발병률이 모두 여러 개의 시트에 나타나 있는 데이터를 사용하였습니다."
      ],
      "metadata": {
        "id": "UwEVsh7pFgkR"
      }
    },
    {
      "cell_type": "code",
      "source": [
        "import pandas as pd\n",
        "import matplotlib.pyplot as plt\n",
        "import numpy as np\n",
        "import seaborn as sns\n",
        "\n",
        "%matplotlib inline"
      ],
      "metadata": {
        "id": "JFG-ihw-9Aji"
      },
      "execution_count": null,
      "outputs": []
    },
    {
      "cell_type": "code",
      "metadata": {
        "id": "9awuguCL8d-L"
      },
      "source": [
        "filename = 'https://github.com/Eunjieater/DATA_ANALYSYS_FINAL/blob/main/Mental_health.xlsx?raw=true'\n",
        "df = pd.read_excel(filename)\n",
        "df.head()\n",
        "#myfile = files.upload()\n",
        "#https://data.world/vizzup/mental-health-depression-disorder-data "
      ],
      "execution_count": null,
      "outputs": []
    },
    {
      "cell_type": "markdown",
      "source": [
        "데이터 전처리"
      ],
      "metadata": {
        "id": "f05Z1d6eEFyy"
      }
    },
    {
      "cell_type": "code",
      "metadata": {
        "id": "Dm5NtnKn_hTb"
      },
      "source": [
        "df_age = pd.read_excel(io=filename, sheet_name=1)\n",
        "df_age_ns = df_age[(df_age.Entity=='North Korea') | (df_age.Entity=='South Korea')]\n",
        "df_age_north = df_age[df_age.Entity=='North Korea']\n",
        "df_age_south = df_age[df_age.Entity=='South Korea']\n",
        "df_age.head()\n",
        "#나이 별, 이를 또 나라 별로 따지기 위해 df_age를 sheet 2번째 장에서 가져온다.\n",
        "#이를 조건문을 이용하여 한국와 북한을 함께 지닌 데이터로 Row-wise Filtering을 하였다.\n",
        "#이를 다시 한국, 북한으로 다시 나누어 주었다.\n"
      ],
      "execution_count": null,
      "outputs": []
    },
    {
      "cell_type": "code",
      "metadata": {
        "id": "n6D80Suz_vjk"
      },
      "source": [
        "df_disorder = pd.read_excel(io=filename, sheet_name=0)\n",
        "df_disorder_south = df_disorder[(df_disorder['Entity']=='South Korea')]\n",
        "df_disorder_north = df_disorder[(df_disorder['Entity']=='North Korea')]\n",
        "#증상별로 나누어주고 싶어서 이를 엑셀 데이터 1번째 시트에서 가져왔고, 이 데이터 또한\n",
        "#Row-wise Filtering을 통해서 한국와 북한으로 나누어 주었다."
      ],
      "execution_count": null,
      "outputs": []
    },
    {
      "cell_type": "code",
      "source": [
        "df_sex = pd.read_excel(io=filename, sheet_name=2)\n",
        "df_sex = df_sex.dropna()\n",
        "df_sex_south = df_sex[(df_sex['Entity']=='South Korea')]\n",
        "df_sex_north = df_sex[(df_sex['Entity']=='North Korea')]\n",
        "df_sex_north.mean()\n",
        "#성별로 나누어진 데이터가 3번째 시트에 있기에 이를 가져와주었고, 몇몇 연도들에는 Nan 값이 꽤 존재했기에\n",
        "#이를 dropna()를 이용해 데이터프레임에서 삭제해주었고, 이 또한 한국과 북한으로 나누어 주었다.\n",
        "#나는 여기서 prevalence in males와 prevalence in females의 전처리를 통해 평균 값을 이용하여 pie graph를 만드려고 하는데,\n",
        "#df_sex_north.mean()만 일단 보여주기 위해 만들어줬다. "
      ],
      "metadata": {
        "id": "5vksonnyFeA4"
      },
      "execution_count": null,
      "outputs": []
    },
    {
      "cell_type": "code",
      "source": [
        "df_age_all_n = df_age_north.groupby(['Year'])['All ages (%)'].sum()\n",
        "df_age_all_s = df_age_south.groupby(['Year'])['All ages (%)'].sum()"
      ],
      "metadata": {
        "id": "EVqte7UDGcAC"
      },
      "execution_count": null,
      "outputs": []
    },
    {
      "cell_type": "code",
      "source": [
        "#plt.plot(df_age_all_n, color='red')\n",
        "#plt.title('North Korea')\n",
        "#plt.xlabel('Year')\n",
        "#plt.show()\n",
        "df_age_all_s.plot(kind='line', color='red', figsize=(8,8), label='South Korea', marker='o').legend()\n",
        "plt.show()"
      ],
      "metadata": {
        "id": "RrB_I5n9Gieu"
      },
      "execution_count": null,
      "outputs": []
    },
    {
      "cell_type": "code",
      "source": [
        "df_age_all_n.plot(kind='line', color='blue', figsize=(8,8), label='North Korea', marker='o').legend()\n",
        "#이 그래프를 보게 되면 시간이 지날 수록 정신질병을 가진 사람들이 들어난다는 것을 볼 수 있다.\n",
        "#이는 각 나라 별 비율이 이렇게 된다는 것이고, 2010년에서 2015년을 넘어가는 시점에 무심코 보게 되면 북한이 남한보다\n",
        "#정신건강이 안좋은 수가 훨씬 많구나 라고 느낄 수 있는데, 이는 인구 수가 아닌, 수 대비 비율이기 때문에 그 점을 고려해야한다.\n",
        "#한국을 보게 되면 2005년 기점으로 급격하게 늘어나는 것을 볼 수 있다."
      ],
      "metadata": {
        "id": "GkiPsYd85Va8"
      },
      "execution_count": null,
      "outputs": []
    },
    {
      "cell_type": "code",
      "source": [
        "#df_age_all_n_2017 = df_age_north[df_age_north.Year=='2017']\n",
        "#df_age_all_s_2017 = df_age_south.groupby(['Year'])['All ages (%)'].sum()\n",
        "df_age_all_2017 = df_age_ns[df_age_ns.Year.isin(['2017'])]\n",
        "df_age_all_2017 \n",
        "#2017년도가 제일 최근 데이터이므로 이를 다루기 위해 Row-wise Filtering-condition을 통해서 \n",
        "#north와 south가 함께 존재하는 df_age_ns 에서 2017년도 data를 뽑아서 가져와 df_age_all_2017에 입력하였다."
      ],
      "metadata": {
        "id": "qDCpcNyQyY0F"
      },
      "execution_count": null,
      "outputs": []
    },
    {
      "cell_type": "code",
      "source": [
        "df_age_all_2017 = df_age_all_2017.filter(['Entity', '15-49 years old (%)', '50-69 years old (%)','70+ years old (%)'])\n",
        "df_age_all_2017\n",
        "#위에서 내가 사용하고 싶었던 것은 15세 이상 50세 미만 data와, 50세 이상 70세 미만 데이터, 70세 이상 데이터였으므로\n",
        "#Column-wise Filtration을 통해서 이를 가져와줬고, 나는 이를 두 나라를 나란히 표시한 다중 막대 그래프로 표현하고 싶었는데,\n",
        "#이를 위해서는 Entity 값도 필요했기 때문에 이 또한 가져온 후, 다시 똑같은 dataframe에 업데이트 시켜줬다."
      ],
      "metadata": {
        "id": "DOC2QbZlJoY9"
      },
      "execution_count": null,
      "outputs": []
    },
    {
      "cell_type": "code",
      "source": [
        "df_age_all_2017.plot(x='Entity', y=['15-49 years old (%)', '50-69 years old (%)','70+ years old (%)'], kind='barh', figsize=(9, 6))\n",
        "\n",
        "#다중 막대 그래프를 그리는 것과 통시에 가로형 막대 그래프가 보기 편할 것 같았으므로,\n",
        "#kind='barh'를 넣어주어 가로로 만들어줬다.\n",
        "#이에서는 15세 이상 50세 미만은 각 나라의 인구에 따른 비율이 남한이 북한보다 높고, \n",
        "#50세 이상 70세 미만과 70세 이상은 각 나라의 인구에 따른 비율이 북한이 남한보다 높다.\n",
        "#여기선 인구 대비 정신병을 가진 사람들이 나이가 들수록 그 비율 또한 더 높아진다는 것을 알 수 있다.\n",
        "#하지만 남한에서는 15세 이상, 50세 미만의 비율이 50세 이상, 70세 미만의 비율보다 살짝 높다는 것을 알 수 있다.\n",
        "#여기서 유의해야 할 점은 15세 이상과 50세 미만이 포함하고 있는 나이의 범위가 50세 이상 70세 미만보다 높다는 것이다."
      ],
      "metadata": {
        "id": "sfzGyg8eL_Ru"
      },
      "execution_count": null,
      "outputs": []
    },
    {
      "cell_type": "code",
      "source": [
        "df_sex_sm = df_sex_south.filter(['Prevalence in males (%)', 'Prevalence in females (%)']).mean()\n",
        "df_sex_nm = df_sex_north.filter(['Prevalence in males (%)', 'Prevalence in females (%)']).mean()\n",
        "df_sex_sm\n",
        "#df_sex_south에서 Colunm wise filtering을 이용해 여자, 남자 발병률의 평균들을 가져왔고,\n",
        "#이를 pie 로 바꾸기 위해 상대도수의 합을 1이라 하고 south의 mean 비율을 따지면\n",
        "#males : females = 0.3735620933 : 0.6264379067 이 되고, \n",
        "#이를 각도로 바꿔주게 되면 134.482353588 : 225.517646412 가 된다.\n",
        "#population scaling으로 보여주기"
      ],
      "metadata": {
        "id": "PHZSY1KxNO0v"
      },
      "execution_count": null,
      "outputs": []
    },
    {
      "cell_type": "code",
      "source": [
        "df_sex_nm\n",
        "#df_sex_north에서 Colunm wise filtering을 이용해 여자, 남자 발병률의 평균들을 가져왔고,\n",
        "#이를 pie 로 바꾸기 위해 상대도수의 합을 1이라 하고 south의 mean 비율을 따지면\n",
        "#males : females = 0.3866331115 : 0.6133668885 이 되고, \n",
        "#이를 각도로 바꿔주게 되면 139.18792014 : 220.81207986 가 된다."
      ],
      "metadata": {
        "id": "C_9VcxJpbNkt"
      },
      "execution_count": null,
      "outputs": []
    },
    {
      "cell_type": "code",
      "source": [
        "from matplotlib.figure import figaspect\n",
        "label = ['Prevalence in males', 'Prevalence in females']\n",
        "frequency_n = [38.66331116, 61.33668885]\n",
        "frequency_s = [37.35620933, 62.64379067]\n",
        "\n",
        "\n",
        "fig, ax = plt.subplots(1, 2, figsize=(12,6))\n",
        "\n",
        "#0번 그래프\n",
        "ax[0].pie(frequency_n, \n",
        "       startangle=90,\n",
        "       labels = label,\n",
        "       autopct='%1.1f%%', \n",
        "       pctdistance=0.85, \n",
        "       shadow = True,\n",
        ") \n",
        "\n",
        "ax[1].pie(frequency_s, \n",
        "       startangle=90,\n",
        "       labels = label,\n",
        "       autopct='%1.1f%%', \n",
        "       pctdistance=0.85, \n",
        "       shadow = True,\n",
        ") \n",
        "\n",
        "#draw white circle in the middle\n",
        "centre_circle = plt.Circle((0,0), 0.7, color='white')\n",
        "figt = plt.gcf()\n",
        "fig.gca().add_artist(centre_circle)\n",
        "\n",
        "ax[0].set_title('North Korea')\n",
        "ax[1].set_title('South Korea')\n",
        "ax[0].legend(labels=label, loc='upper left')\n",
        "ax[1].legend(labels=label, loc='upper right')\n",
        "plt.show('jpg')\n",
        "#lecture4.ipynb 과제 참고\n",
        "#https://dailyheumsi.tistory.com/36 - fig, ax 배열이용\n",
        "#label을 prevalence in males와 prevalence in females로 두고, north Korea를 먼저 그리기 위해 \n",
        "#frequency_n을 계산하여 설정해줬다. 배경의 크기는 6, 6으로 설정해 줬고, \n",
        "#pie 설정 내부에 빈도수, 각도가 시작되는 위치, label, 얼마나 비율을 표현해 줄 것인지(여기서 소수점 1자리수까지 표현하게 만듦),\n",
        "#또한 pctdistance 인자를 통해서 퍼센트 텍스트의 위치를 중심에서 얼마나 멀게 할지 정하고, 그림자가 나타나게 해줬다.\n",
        "#여기서 lecture4 과제에서 수행한 것과 같이 가운데에 존재하는 원에 대하여 좌표, 크기, 색깔을 정해 줬고,\n",
        "#gcf()를 통해 현재의 figure 객체를, gca()를 통해 현재의 axes를 구해준 후, add_artist를 이용하여 가운데 원을 그려줬다.\n",
        "#tight_layout 함수를 입력 없이 사용함으로써 기존에 세팅된 기본값을 이용해 자동으로 레이아웃을 설정해 주었다.\n",
        "#이제 마지막으로 제목을 붙이고, legend 함수와 이 안의 파라미터 loc를 이용하여 위쪽 우측에 legend labels가 생기게 해주었다.\n",
        "#다양성을 주기 위해 north는 일반 pie 형태, south는 도넛 형태로 그렸다."
      ],
      "metadata": {
        "id": "3D_mGJ1_blAu"
      },
      "execution_count": null,
      "outputs": []
    },
    {
      "cell_type": "code",
      "source": [
        "#증상별에서는 조현병, 조울증, 섭식장애, 분노장애, 약물장애, 우울, 알코올 장애가 있는데 \n",
        "#나는 여기서 연도에 따라서 증상별로 그래프를 그려 남한과 북한의 비율 차이를 알 것이고,\n",
        "#또한 어떤 것이 증가되고 어떤 것이 감소되었는지를 알 것이다.\n",
        "#상관계수를 통하여 증상 간 correlation coefficient가 어떤지도 볼 것이다. - Regression\n",
        "#이 때, 예로 south tables를 보면 0.2부터 3-4까지 있는 것을 볼 수 있다. \n",
        "#비슷하게 scaling을 해주고 싶고, 나는 양수값으로 scaling이 되길 원하며,\n",
        "# min-max scaling을 해주었다.\n",
        "#그리고 Entity와 Code는 string이고, encoding하면 오히려 복잡해질 것으로 생각했기 때문에 숫자값들로만\n",
        "#Column-Slicing 해주었다.\n",
        "#나중에 concat 위해 year빼두기\n",
        "df_later_ny = df_disorder_north.loc[:, ['Year']]\n",
        "df_later_sy = df_disorder_south.loc[:, ['Year']]\n",
        "df_disorder_south_s = df_disorder_south.loc[:, 'Schizophrenia (%)':'Alcohol use disorders (%)']\n",
        "df_disorder_north_n = df_disorder_north.loc[:, 'Schizophrenia (%)':'Alcohol use disorders (%)']\n",
        "#df_disorder_south.head()\n",
        "df_later_ny.head()"
      ],
      "metadata": {
        "id": "YxetfYBxlgGi"
      },
      "execution_count": null,
      "outputs": []
    },
    {
      "cell_type": "code",
      "source": [
        "#그런데 여기서 상대적으로 너무 낮은 값은 0으로, 높은 값은 1로 뜨기 때문에 robust로 하면, \n",
        "from sklearn.preprocessing import RobustScaler\n",
        "scaler = RobustScaler()\n",
        "df_robust_s = pd.DataFrame(scaler.fit_transform(df_disorder_south_s), columns=df_disorder_south_s.columns)\n",
        "df_robust_n = pd.DataFrame(scaler.fit_transform(df_disorder_north_n), columns=df_disorder_north_n.columns)\n",
        "df_robust_s.head()"
      ],
      "metadata": {
        "id": "i89H3dKQEyMj"
      },
      "execution_count": null,
      "outputs": []
    },
    {
      "cell_type": "code",
      "source": [
        "#https://www.delftstack.com/ko/howto/seaborn/size-of-seaborn-heatmap/ \n",
        "#heatmap 파라미터들 정의\n",
        "corr=df_robust_s.corr()\n",
        "sns.set(rc = {'figure.figsize':(10, 8)})\n",
        "sns.heatmap(corr, annot=True, cmap='YlGnBu')\n",
        "plt.title('South Korea', fontsize=25)\n",
        "plt.show()"
      ],
      "metadata": {
        "id": "6-6zmtMfI8jg"
      },
      "execution_count": null,
      "outputs": []
    },
    {
      "cell_type": "code",
      "source": [
        "corr=df_robust_n.corr()\n",
        "sns.set(rc = {'figure.figsize':(10, 8)})\n",
        "sns.heatmap(corr, annot=True, cmap='YlGnBu')\n",
        "plt.title('North Korea', fontsize=25)\n",
        "plt.show()"
      ],
      "metadata": {
        "id": "JA9IKJ7WJW23"
      },
      "execution_count": null,
      "outputs": []
    },
    {
      "cell_type": "code",
      "source": [
        "#상관계수 모두 봤으니 이제 시각화 위해 CONCAT\n",
        "df_do_south = pd.concat([df_later_sy, df_disorder_south_s], axis=1)\n",
        "df_do_north = pd.concat([df_later_ny, df_disorder_north_n], axis=1)\n",
        "df_do_south"
      ],
      "metadata": {
        "id": "4dzMCnLULlhj"
      },
      "execution_count": null,
      "outputs": []
    },
    {
      "cell_type": "code",
      "source": [
        ""
      ],
      "metadata": {
        "id": "FASS5tFoMz-j"
      },
      "execution_count": null,
      "outputs": []
    },
    {
      "cell_type": "code",
      "source": [
        ""
      ],
      "metadata": {
        "id": "vSLWH318MmQL"
      },
      "execution_count": null,
      "outputs": []
    },
    {
      "cell_type": "code",
      "source": [
        ""
      ],
      "metadata": {
        "id": "u0_yWO3JMiPv"
      },
      "execution_count": null,
      "outputs": []
    }
  ]
}